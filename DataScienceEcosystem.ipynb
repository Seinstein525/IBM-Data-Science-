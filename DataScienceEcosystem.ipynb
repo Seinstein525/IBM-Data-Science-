{
 "cells": [
  {
   "cell_type": "markdown",
   "id": "62dfb98f-86ea-44ab-a4b4-f1452d89dc45",
   "metadata": {},
   "source": [
    "# Data Science Tools and Ecosystem"
   ]
  },
  {
   "cell_type": "markdown",
   "id": "c1a55e9e-494d-45e5-ac5b-ce0fe7519c79",
   "metadata": {},
   "source": [
    "<p> In this notebook, Data Science Tools and Ecosystem are summarized. </p>"
   ]
  },
  {
   "cell_type": "markdown",
   "id": "57bc4552-2a6f-415b-8edc-b18b579eaa78",
   "metadata": {},
   "source": [
    "**Objectives:**\n",
    "\n",
    "* List popular languages for Data Science\n",
    "* List commonly used libraries for Data Science\n",
    "* List development environment tools for Data Science\n",
    "* Introduce basic arithmetic expressions in Python"
   ]
  },
  {
   "cell_type": "markdown",
   "id": "fdc011ce-cf12-4978-8c16-e91424d030bf",
   "metadata": {},
   "source": [
    "Some of the popular languages that Data Scientist use are:\n",
    "\n",
    "1. Python\n",
    "2. R\n",
    "3. Scala\n",
    "4. Java\n",
    "5. JavaScript"
   ]
  },
  {
   "cell_type": "markdown",
   "id": "2f40a27d-31b6-47a4-a538-2403db343c96",
   "metadata": {},
   "source": [
    "Some of the commonly used libraries by Data Scientists include:\n",
    "1. Pandas\n",
    "2. Numpy\n",
    "3. dplyr\n",
    "4. SciPy\n",
    "5. SciKit-learn\n",
    "6. caret\n",
    "7. matplotlib\n",
    "8. ggplot2"
   ]
  },
  {
   "cell_type": "markdown",
   "id": "0720e5d2-d7bb-4a8f-836e-395bee899dd3",
   "metadata": {},
   "source": [
    "**A table indicating three (3) development environments open source tools used in data science**\n",
    "|Data Science Tools|\n",
    "|----------|\n",
    "|Jupyter|\n",
    "|R-Studio|\n",
    "|VS Code|"
   ]
  },
  {
   "cell_type": "markdown",
   "id": "7150d666-ba6d-473b-a03d-8674dcb9cce7",
   "metadata": {},
   "source": [
    "### Below are a few examples of evaluating arithmetic expressions in Python\n",
    "\n",
    "Below are a few examples of evaluating arithmetic expressions in Python"
   ]
  },
  {
   "cell_type": "code",
   "execution_count": 11,
   "id": "e101e80f-91d7-4a3f-a65e-fcae8c13e98a",
   "metadata": {},
   "outputs": [
    {
     "data": {
      "text/plain": [
       "17"
      ]
     },
     "execution_count": 11,
     "metadata": {},
     "output_type": "execute_result"
    }
   ],
   "source": [
    "# This is a simple arithmetic expression to multiply then add integers\n",
    "(3*4)+5"
   ]
  },
  {
   "cell_type": "code",
   "execution_count": 13,
   "id": "e2a41ef9-ba68-438c-9a55-b1309972c953",
   "metadata": {},
   "outputs": [
    {
     "data": {
      "text/plain": [
       "3.3333333333333335"
      ]
     },
     "execution_count": 13,
     "metadata": {},
     "output_type": "execute_result"
    }
   ],
   "source": [
    "# This will convert 200 minutes to hours by diving by 60\n",
    "200/60"
   ]
  },
  {
   "cell_type": "markdown",
   "id": "3275570e-b736-4048-915e-8fbc45f1fc8b",
   "metadata": {},
   "source": [
    "## Author\n",
    "Sphamandla Nkosi"
   ]
  }
 ],
 "metadata": {
  "kernelspec": {
   "display_name": "Python 3 (ipykernel)",
   "language": "python",
   "name": "python3"
  },
  "language_info": {
   "codemirror_mode": {
    "name": "ipython",
    "version": 3
   },
   "file_extension": ".py",
   "mimetype": "text/x-python",
   "name": "python",
   "nbconvert_exporter": "python",
   "pygments_lexer": "ipython3",
   "version": "3.11.7"
  }
 },
 "nbformat": 4,
 "nbformat_minor": 5
}
